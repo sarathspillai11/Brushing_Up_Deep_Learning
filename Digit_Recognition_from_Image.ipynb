{
  "nbformat": 4,
  "nbformat_minor": 0,
  "metadata": {
    "colab": {
      "name": "Digit Recognition from Image.ipynb",
      "provenance": []
    },
    "kernelspec": {
      "name": "python3",
      "display_name": "Python 3"
    },
    "language_info": {
      "name": "python"
    },
    "accelerator": "GPU"
  },
  "cells": [
    {
      "cell_type": "code",
      "execution_count": 1,
      "metadata": {
        "id": "HIjGNk7d7Pcz"
      },
      "outputs": [],
      "source": [
        "import numpy \n",
        "import matplotlib.pyplot as plt\n",
        "from tensorflow.keras.models import Sequential\n",
        "from tensorflow.keras.layers import Dense\n",
        "from tensorflow.keras.utils import to_categorical\n",
        "from tensorflow.keras.datasets import mnist"
      ]
    },
    {
      "cell_type": "code",
      "execution_count": 2,
      "metadata": {
        "colab": {
          "base_uri": "https://localhost:8080/"
        },
        "id": "sXnDmXR7RDr2",
        "outputId": "a0a66a13-c052-412b-9049-bdb204601ba5"
      },
      "outputs": [
        {
          "output_type": "execute_result",
          "data": {
            "text/plain": [
              "[name: \"/device:CPU:0\"\n",
              " device_type: \"CPU\"\n",
              " memory_limit: 268435456\n",
              " locality {\n",
              " }\n",
              " incarnation: 1639039171078515072\n",
              " xla_global_id: -1, name: \"/device:GPU:0\"\n",
              " device_type: \"GPU\"\n",
              " memory_limit: 11320098816\n",
              " locality {\n",
              "   bus_id: 1\n",
              "   links {\n",
              "   }\n",
              " }\n",
              " incarnation: 14311230684395873901\n",
              " physical_device_desc: \"device: 0, name: Tesla K80, pci bus id: 0000:00:04.0, compute capability: 3.7\"\n",
              " xla_global_id: 416903419]"
            ]
          },
          "metadata": {},
          "execution_count": 2
        }
      ],
      "source": [
        "from tensorflow.python.client import device_lib\n",
        "device_lib.list_local_devices()"
      ]
    },
    {
      "cell_type": "markdown",
      "source": [
        "Training Dataset: This contains 60,000 data points.\n",
        "Testing Dataset: This contains 10,000 data points."
      ],
      "metadata": {
        "id": "adP1BzwH_1ux"
      }
    },
    {
      "cell_type": "code",
      "source": [
        "(X_train, y_train), (X_test, y_test) = mnist.load_data()"
      ],
      "metadata": {
        "colab": {
          "base_uri": "https://localhost:8080/"
        },
        "id": "FnpUe1PE8u5t",
        "outputId": "437cbeef-475d-4eb1-c11a-a4d939a97655"
      },
      "execution_count": 3,
      "outputs": [
        {
          "output_type": "stream",
          "name": "stdout",
          "text": [
            "Downloading data from https://storage.googleapis.com/tensorflow/tf-keras-datasets/mnist.npz\n",
            "11493376/11490434 [==============================] - 0s 0us/step\n",
            "11501568/11490434 [==============================] - 0s 0us/step\n"
          ]
        }
      ]
    },
    {
      "cell_type": "code",
      "source": [
        "print(X_train.shape)\n",
        "print(y_train.shape)\n",
        "print(X_test.shape)\n",
        "print(y_test.shape)"
      ],
      "metadata": {
        "colab": {
          "base_uri": "https://localhost:8080/"
        },
        "id": "neVgfW0sAEPG",
        "outputId": "792970df-bfae-4564-a62f-661fffd5bec6"
      },
      "execution_count": 4,
      "outputs": [
        {
          "output_type": "stream",
          "name": "stdout",
          "text": [
            "(60000, 28, 28)\n",
            "(60000,)\n",
            "(10000, 28, 28)\n",
            "(10000,)\n"
          ]
        }
      ]
    },
    {
      "cell_type": "markdown",
      "source": [
        "# Plotting Images in grey scale"
      ],
      "metadata": {
        "id": "987dn_NQAWgQ"
      }
    },
    {
      "cell_type": "code",
      "source": [
        "plt.subplot(221)\n",
        "plt.imshow(X_train[0], cmap=plt.get_cmap('gray'))\n",
        "plt.subplot(222)\n",
        "plt.imshow(X_train[1], cmap=plt.get_cmap('gray'))\n",
        "plt.subplot(223)\n",
        "plt.imshow(X_train[2], cmap=plt.get_cmap('gray'))\n",
        "plt.subplot(224)\n",
        "plt.imshow(X_train[3], cmap=plt.get_cmap('gray'))\n",
        "# Show the plot\n",
        "plt.show()"
      ],
      "metadata": {
        "colab": {
          "base_uri": "https://localhost:8080/",
          "height": 268
        },
        "id": "TlHWZXoQAP5H",
        "outputId": "f2e3c2c8-947a-4666-9e01-0d3a36af0629"
      },
      "execution_count": 5,
      "outputs": [
        {
          "output_type": "display_data",
          "data": {
            "image/png": "[encoded data removed]",
            "text/plain": [
              "<Figure size 432x288 with 4 Axes>"
            ]
          },
          "metadata": {
            "needs_background": "light"
          }
        }
      ]
    },
    {
      "cell_type": "markdown",
      "source": [
        "# Formatting Data and Labels for Keras\n",
        "Now, we will flatten our array of images into a vector of 28×28=784 numbers. As long as we’re consistent between images, it is irrespective of how we flatten the array. From this perspective, the images of the given dataset are just a bunch of points in a 784-dimensional vector space. But the data should always be of the format “(Number of data points, data point dimension)”. In this example, the training data will be of the dimension 60,000×784."
      ],
      "metadata": {
        "id": "v7R0_wK8AqX5"
      }
    },
    {
      "cell_type": "code",
      "source": [
        "num_pixels = X_train.shape[1] * X_train.shape[2]\n",
        "X_train = X_train.reshape(X_train.shape[0], num_pixels).astype('float32')\n",
        "X_test = X_test.reshape(X_test.shape[0], num_pixels).astype('float32')\n",
        "X_train = X_train / 255 \n",
        "X_test = X_test / 255\n",
        "y_train = to_categorical(y_train) \n",
        "y_test = to_categorical(y_test)\n",
        "num_classes = y_test.shape[1]"
      ],
      "metadata": {
        "id": "VCRwbUJmAs7w"
      },
      "execution_count": 6,
      "outputs": []
    },
    {
      "cell_type": "code",
      "source": [
        "print(X_train.shape)\n",
        "print(y_train.shape)\n",
        "print(X_test.shape)\n",
        "print(y_test.shape)"
      ],
      "metadata": {
        "colab": {
          "base_uri": "https://localhost:8080/"
        },
        "id": "0saXH9alBGhx",
        "outputId": "caf722ce-023a-4c76-f2b2-2a5578f6865e"
      },
      "execution_count": 7,
      "outputs": [
        {
          "output_type": "stream",
          "name": "stdout",
          "text": [
            "(60000, 784)\n",
            "(60000, 10)\n",
            "(10000, 784)\n",
            "(10000, 10)\n"
          ]
        }
      ]
    },
    {
      "cell_type": "markdown",
      "source": [
        "# Single layer Neural Network Model\n",
        "Here we will define a single-layer neural network. It will have an input layer of 784 neurons, i.e. the input dimension and output layer of 10 neurons, i.e. a number of classes. The activation function used will be softmax activation."
      ],
      "metadata": {
        "id": "InWlsD-vBRjQ"
      }
    },
    {
      "cell_type": "code",
      "source": [
        "# create model\n",
        "model = Sequential()  \n",
        "model.add(Dense(num_classes, input_dim=num_pixels, activation='softmax'))"
      ],
      "metadata": {
        "id": "K0666ztTBiVp"
      },
      "execution_count": 8,
      "outputs": []
    },
    {
      "cell_type": "markdown",
      "source": [
        "# Compiling the Model\n",
        "Once we defined our first model, our next step is to compile it. While compiling we have to give the loss function to be used, the optimizer, and any metric as an input. Here we will use\n",
        "\n",
        "Cross-entropy loss as a loss function,\n",
        "SGD as an optimizer, and\n",
        "Accuracy as a metric."
      ],
      "metadata": {
        "id": "UewYfesTB205"
      }
    },
    {
      "cell_type": "code",
      "source": [
        "# Compile model\n",
        "model.compile(loss='categorical_crossentropy', optimizer='sgd', metrics=['accuracy'])"
      ],
      "metadata": {
        "id": "fnSBt7Q6B4Ax"
      },
      "execution_count": 9,
      "outputs": []
    },
    {
      "cell_type": "markdown",
      "source": [
        "# Training or Fitting the Model\n",
        "After compilation, our model is ready to be trained. Now, we will provide training data to the neural network. Also, we have to specify the validation data, over which the model will only be validated along with the number of epochs and batch size as hyperparameter"
      ],
      "metadata": {
        "id": "l35Pn3O-CFrX"
      }
    },
    {
      "cell_type": "code",
      "source": [
        "# Training model\n",
        "model.fit(X_train, y_train, validation_data=(X_test, y_test), epochs=10, batch_size=200)"
      ],
      "metadata": {
        "colab": {
          "base_uri": "https://localhost:8080/"
        },
        "id": "KQFSrFmACG6p",
        "outputId": "09b12258-48b3-482a-b679-35d7c2b410e8"
      },
      "execution_count": 10,
      "outputs": [
        {
          "output_type": "stream",
          "name": "stdout",
          "text": [
            "Epoch 1/10\n",
            "300/300 [==============================] - 3s 4ms/step - loss: 1.4758 - accuracy: 0.6310 - val_loss: 0.9938 - val_accuracy: 0.8013\n",
            "Epoch 2/10\n",
            "300/300 [==============================] - 1s 3ms/step - loss: 0.8627 - accuracy: 0.8189 - val_loss: 0.7288 - val_accuracy: 0.8441\n",
            "Epoch 3/10\n",
            "300/300 [==============================] - 1s 3ms/step - loss: 0.6921 - accuracy: 0.8434 - val_loss: 0.6193 - val_accuracy: 0.8592\n",
            "Epoch 4/10\n",
            "300/300 [==============================] - 1s 3ms/step - loss: 0.6092 - accuracy: 0.8559 - val_loss: 0.5572 - val_accuracy: 0.8684\n",
            "Epoch 5/10\n",
            "300/300 [==============================] - 1s 3ms/step - loss: 0.5587 - accuracy: 0.8633 - val_loss: 0.5169 - val_accuracy: 0.8745\n",
            "Epoch 6/10\n",
            "300/300 [==============================] - 1s 3ms/step - loss: 0.5242 - accuracy: 0.8687 - val_loss: 0.4879 - val_accuracy: 0.8793\n",
            "Epoch 7/10\n",
            "300/300 [==============================] - 1s 3ms/step - loss: 0.4987 - accuracy: 0.8729 - val_loss: 0.4663 - val_accuracy: 0.8830\n",
            "Epoch 8/10\n",
            "300/300 [==============================] - 1s 4ms/step - loss: 0.4789 - accuracy: 0.8767 - val_loss: 0.4491 - val_accuracy: 0.8848\n",
            "Epoch 9/10\n",
            "300/300 [==============================] - 1s 3ms/step - loss: 0.4631 - accuracy: 0.8793 - val_loss: 0.4350 - val_accuracy: 0.8869\n",
            "Epoch 10/10\n",
            "300/300 [==============================] - 1s 3ms/step - loss: 0.4500 - accuracy: 0.8817 - val_loss: 0.4234 - val_accuracy: 0.8883\n"
          ]
        },
        {
          "output_type": "execute_result",
          "data": {
            "text/plain": [
              "<keras.callbacks.History at 0x7f581360f910>"
            ]
          },
          "metadata": {},
          "execution_count": 10
        }
      ]
    },
    {
      "cell_type": "markdown",
      "source": [
        "# Evaluating the Model"
      ],
      "metadata": {
        "id": "-a8mJjcFCQcZ"
      }
    },
    {
      "cell_type": "code",
      "source": [
        "# Final evaluation of the model\n",
        "scores = model.evaluate(X_test, y_test)\n",
        "print(\"Baseline Error: %.2f%%\" % (100-scores[1]*100))"
      ],
      "metadata": {
        "colab": {
          "base_uri": "https://localhost:8080/"
        },
        "id": "2pFVjDVtCRWh",
        "outputId": "e1e269d6-8ecc-4ec7-a8d7-17027971c597"
      },
      "execution_count": 11,
      "outputs": [
        {
          "output_type": "stream",
          "name": "stdout",
          "text": [
            "313/313 [==============================] - 1s 4ms/step - loss: 0.4234 - accuracy: 0.8883\n",
            "Baseline Error: 11.17%\n"
          ]
        }
      ]
    },
    {
      "cell_type": "markdown",
      "source": [
        "# Multi-Layer Neural Network Model\n",
        "Now we will define a multi-layer neural network in which we will add 2 hidden layers having 500 and 100 neurons."
      ],
      "metadata": {
        "id": "z4Rt4Y8vCiPS"
      }
    },
    {
      "cell_type": "code",
      "source": [
        "model = Sequential()\n",
        "model.add(Dense(500, input_dim=num_pixels, activation='relu'))\n",
        "model.add(Dense(100, activation='relu'))\n",
        "model.add(Dense(num_classes, activation='softmax'))"
      ],
      "metadata": {
        "id": "7LIFWE-NCjsf"
      },
      "execution_count": 12,
      "outputs": []
    },
    {
      "cell_type": "markdown",
      "source": [
        "# Compiling the Model\n",
        "Once we defined our second model, our next step is to compile it. While compiling we have to give the loss function to be used, the optimizer, and any metric as an input. Here we will use\n",
        "\n",
        "Cross-entropy loss as a loss function,\n",
        "Adam optimizer as an optimizer, and\n",
        "Accuracy as a metric."
      ],
      "metadata": {
        "id": "4YZvzTi6CtkB"
      }
    },
    {
      "cell_type": "code",
      "source": [
        "# Compile model\n",
        "model.compile(loss='categorical_crossentropy', optimizer='adam', metrics=['accuracy'])"
      ],
      "metadata": {
        "id": "4b9S1uNoCvLh"
      },
      "execution_count": 13,
      "outputs": []
    },
    {
      "cell_type": "code",
      "source": [
        "# Training model\n",
        "model.fit(X_train, y_train, validation_data=(X_test, y_test), epochs=10, batch_size=200)"
      ],
      "metadata": {
        "colab": {
          "base_uri": "https://localhost:8080/"
        },
        "id": "94X5x26wDLZI",
        "outputId": "7fd0355e-8b2a-41d9-a07e-311606b5f2c0"
      },
      "execution_count": 14,
      "outputs": [
        {
          "output_type": "stream",
          "name": "stdout",
          "text": [
            "Epoch 1/10\n",
            "300/300 [==============================] - 2s 6ms/step - loss: 0.2670 - accuracy: 0.9225 - val_loss: 0.1241 - val_accuracy: 0.9617\n",
            "Epoch 2/10\n",
            "300/300 [==============================] - 2s 5ms/step - loss: 0.1017 - accuracy: 0.9699 - val_loss: 0.0887 - val_accuracy: 0.9730\n",
            "Epoch 3/10\n",
            "300/300 [==============================] - 1s 5ms/step - loss: 0.0645 - accuracy: 0.9809 - val_loss: 0.0795 - val_accuracy: 0.9753\n",
            "Epoch 4/10\n",
            "300/300 [==============================] - 1s 5ms/step - loss: 0.0444 - accuracy: 0.9862 - val_loss: 0.0810 - val_accuracy: 0.9736\n",
            "Epoch 5/10\n",
            "300/300 [==============================] - 1s 5ms/step - loss: 0.0322 - accuracy: 0.9902 - val_loss: 0.0683 - val_accuracy: 0.9794\n",
            "Epoch 6/10\n",
            "300/300 [==============================] - 1s 5ms/step - loss: 0.0238 - accuracy: 0.9928 - val_loss: 0.0740 - val_accuracy: 0.9777\n",
            "Epoch 7/10\n",
            "300/300 [==============================] - 1s 5ms/step - loss: 0.0182 - accuracy: 0.9945 - val_loss: 0.0635 - val_accuracy: 0.9818\n",
            "Epoch 8/10\n",
            "300/300 [==============================] - 1s 5ms/step - loss: 0.0131 - accuracy: 0.9961 - val_loss: 0.0625 - val_accuracy: 0.9830\n",
            "Epoch 9/10\n",
            "300/300 [==============================] - 1s 5ms/step - loss: 0.0129 - accuracy: 0.9960 - val_loss: 0.0751 - val_accuracy: 0.9811\n",
            "Epoch 10/10\n",
            "300/300 [==============================] - 1s 5ms/step - loss: 0.0070 - accuracy: 0.9981 - val_loss: 0.0722 - val_accuracy: 0.9801\n"
          ]
        },
        {
          "output_type": "execute_result",
          "data": {
            "text/plain": [
              "<keras.callbacks.History at 0x7f5813575d90>"
            ]
          },
          "metadata": {},
          "execution_count": 14
        }
      ]
    },
    {
      "cell_type": "code",
      "source": [
        "# Final evaluation of the model\n",
        "scores = model.evaluate(X_test, y_test)\n",
        "print(\"Baseline Error: %.2f%%\" % (100-scores[1]*100))"
      ],
      "metadata": {
        "colab": {
          "base_uri": "https://localhost:8080/"
        },
        "id": "XP3LOmx1DOgp",
        "outputId": "592b4b9e-6d1c-4d24-d910-8fa60b5e4196"
      },
      "execution_count": 15,
      "outputs": [
        {
          "output_type": "stream",
          "name": "stdout",
          "text": [
            "313/313 [==============================] - 1s 4ms/step - loss: 0.0722 - accuracy: 0.9801\n",
            "Baseline Error: 1.99%\n"
          ]
        }
      ]
    },
    {
      "cell_type": "markdown",
      "source": [
        "# Deep Neural Network Model\n",
        "Now we will define a deep neural network in which we will add 3 hidden layers having 500, 100 and 50 neurons respectively"
      ],
      "metadata": {
        "id": "h4TQCAXnDWt6"
      }
    },
    {
      "cell_type": "code",
      "source": [
        "model = Sequential()  \n",
        "model.add(Dense(500, input_dim=num_pixels, activation='sigmoid'))\n",
        "model.add(Dense(100, activation='sigmoid'))\n",
        "model.add(Dense(50, activation = 'sigmoid'))\n",
        "model.add(Dense(num_classes, activation='softmax'))"
      ],
      "metadata": {
        "id": "NrtRjz5BDX-Z"
      },
      "execution_count": 16,
      "outputs": []
    },
    {
      "cell_type": "code",
      "source": [
        "# Compile model\n",
        "model.compile(loss='categorical_crossentropy', optimizer='adam', metrics=['accuracy'])"
      ],
      "metadata": {
        "id": "V1hhTF6gDi_B"
      },
      "execution_count": 17,
      "outputs": []
    },
    {
      "cell_type": "code",
      "source": [
        "# Training model\n",
        "model.fit(X_train, y_train, validation_data=(X_test, y_test), epochs=10, batch_size=200)"
      ],
      "metadata": {
        "colab": {
          "base_uri": "https://localhost:8080/"
        },
        "id": "v-0CAu2NDl5Z",
        "outputId": "9f80db0d-9d4a-416c-f337-041bb0bd7128"
      },
      "execution_count": 18,
      "outputs": [
        {
          "output_type": "stream",
          "name": "stdout",
          "text": [
            "Epoch 1/10\n",
            "300/300 [==============================] - 2s 6ms/step - loss: 1.0054 - accuracy: 0.7495 - val_loss: 0.3903 - val_accuracy: 0.9082\n",
            "Epoch 2/10\n",
            "300/300 [==============================] - 2s 5ms/step - loss: 0.2918 - accuracy: 0.9251 - val_loss: 0.2132 - val_accuracy: 0.9408\n",
            "Epoch 3/10\n",
            "300/300 [==============================] - 2s 5ms/step - loss: 0.1877 - accuracy: 0.9486 - val_loss: 0.1635 - val_accuracy: 0.9532\n",
            "Epoch 4/10\n",
            "300/300 [==============================] - 2s 5ms/step - loss: 0.1410 - accuracy: 0.9607 - val_loss: 0.1319 - val_accuracy: 0.9634\n",
            "Epoch 5/10\n",
            "300/300 [==============================] - 2s 5ms/step - loss: 0.1104 - accuracy: 0.9689 - val_loss: 0.1109 - val_accuracy: 0.9667\n",
            "Epoch 6/10\n",
            "300/300 [==============================] - 2s 5ms/step - loss: 0.0904 - accuracy: 0.9744 - val_loss: 0.0969 - val_accuracy: 0.9706\n",
            "Epoch 7/10\n",
            "300/300 [==============================] - 2s 5ms/step - loss: 0.0742 - accuracy: 0.9790 - val_loss: 0.0903 - val_accuracy: 0.9716\n",
            "Epoch 8/10\n",
            "300/300 [==============================] - 2s 5ms/step - loss: 0.0598 - accuracy: 0.9833 - val_loss: 0.0886 - val_accuracy: 0.9736\n",
            "Epoch 9/10\n",
            "300/300 [==============================] - 2s 5ms/step - loss: 0.0498 - accuracy: 0.9863 - val_loss: 0.0754 - val_accuracy: 0.9768\n",
            "Epoch 10/10\n",
            "300/300 [==============================] - 2s 5ms/step - loss: 0.0412 - accuracy: 0.9889 - val_loss: 0.0790 - val_accuracy: 0.9751\n"
          ]
        },
        {
          "output_type": "execute_result",
          "data": {
            "text/plain": [
              "<keras.callbacks.History at 0x7f581331cd90>"
            ]
          },
          "metadata": {},
          "execution_count": 18
        }
      ]
    },
    {
      "cell_type": "code",
      "source": [
        "# Final evaluation of the model\n",
        "scores = model.evaluate(X_test, y_test)\n",
        "print(\"Baseline Error: %.2f%%\" % (100-scores[1]*100))"
      ],
      "metadata": {
        "colab": {
          "base_uri": "https://localhost:8080/"
        },
        "id": "lnT-0bMXDmfh",
        "outputId": "5281ee05-0bb7-4038-f57d-1855d4911a6f"
      },
      "execution_count": 19,
      "outputs": [
        {
          "output_type": "stream",
          "name": "stdout",
          "text": [
            "313/313 [==============================] - 1s 4ms/step - loss: 0.0790 - accuracy: 0.9751\n",
            "Baseline Error: 2.49%\n"
          ]
        }
      ]
    },
    {
      "cell_type": "markdown",
      "source": [
        "# Analyzing Model Summary"
      ],
      "metadata": {
        "id": "fRzYJqlvD76B"
      }
    },
    {
      "cell_type": "code",
      "source": [
        "model.summary()"
      ],
      "metadata": {
        "colab": {
          "base_uri": "https://localhost:8080/"
        },
        "id": "I4U0oHuMD-15",
        "outputId": "2e1a3c7a-65c4-4845-de77-fbab9bc6ef2f"
      },
      "execution_count": 20,
      "outputs": [
        {
          "output_type": "stream",
          "name": "stdout",
          "text": [
            "Model: \"sequential_2\"\n",
            "_________________________________________________________________\n",
            " Layer (type)                Output Shape              Param #   \n",
            "=================================================================\n",
            " dense_4 (Dense)             (None, 500)               392500    \n",
            "                                                                 \n",
            " dense_5 (Dense)             (None, 100)               50100     \n",
            "                                                                 \n",
            " dense_6 (Dense)             (None, 50)                5050      \n",
            "                                                                 \n",
            " dense_7 (Dense)             (None, 10)                510       \n",
            "                                                                 \n",
            "=================================================================\n",
            "Total params: 448,160\n",
            "Trainable params: 448,160\n",
            "Non-trainable params: 0\n",
            "_________________________________________________________________\n"
          ]
        }
      ]
    },
    {
      "cell_type": "markdown",
      "source": [
        "# Save the Model\n",
        "The phrase \"Saving a TensorFlow model\" typically means one of two things:\n",
        "\n",
        "Checkpoints, OR\n",
        "SavedModel.\n",
        "Checkpoints capture the exact value of all parameters (tf.Variable objects) used by a model. Checkpoints do not contain any description of the computation defined by the model and thus are typically only useful when source code that will use the saved parameter values is available.\n",
        "\n",
        "The SavedModel format on the other hand includes a serialized description of the computation defined by the model in addition to the parameter values (checkpoint). Models in this format are independent of the source code that created the model. They are thus suitable for deployment via TensorFlow Serving, TensorFlow Lite, TensorFlow.js, or programs in other programming languages (the C, C++, Java, Go, Rust, C# etc. TensorFlow APIs)"
      ],
      "metadata": {
        "id": "9RIk0qC0VDQH"
      }
    },
    {
      "cell_type": "code",
      "source": [
        "import h5py\n",
        "# Compile the model\n",
        "model.compile(loss='categorical_crossentropy', optimizer='adam', metrics=['accuracy'])\n",
        "# Training model\n",
        "model.fit(X_train, y_train, validation_data=(X_test, y_test), epochs=10, batch_size=200)\n",
        "model.save_weights('FC.h5')\n",
        "# Final evaluation of the model\n",
        "scores = model.evaluate(X_test, y_test)\n",
        "print(\"Baseline Error: %.2f%%\" % (100-scores[1]*100))"
      ],
      "metadata": {
        "colab": {
          "base_uri": "https://localhost:8080/"
        },
        "id": "ly6Jo-CZVKCM",
        "outputId": "855d3fb5-6fbe-4be2-9ecc-5bef5ccdf8a0"
      },
      "execution_count": 21,
      "outputs": [
        {
          "output_type": "stream",
          "name": "stdout",
          "text": [
            "Epoch 1/10\n",
            "300/300 [==============================] - 2s 6ms/step - loss: 0.0344 - accuracy: 0.9907 - val_loss: 0.0709 - val_accuracy: 0.9789\n",
            "Epoch 2/10\n",
            "300/300 [==============================] - 1s 5ms/step - loss: 0.0282 - accuracy: 0.9921 - val_loss: 0.0725 - val_accuracy: 0.9791\n",
            "Epoch 3/10\n",
            "300/300 [==============================] - 2s 5ms/step - loss: 0.0215 - accuracy: 0.9947 - val_loss: 0.0713 - val_accuracy: 0.9799\n",
            "Epoch 4/10\n",
            "300/300 [==============================] - 2s 5ms/step - loss: 0.0176 - accuracy: 0.9958 - val_loss: 0.0680 - val_accuracy: 0.9809\n",
            "Epoch 5/10\n",
            "300/300 [==============================] - 2s 5ms/step - loss: 0.0141 - accuracy: 0.9967 - val_loss: 0.0685 - val_accuracy: 0.9810\n",
            "Epoch 6/10\n",
            "300/300 [==============================] - 2s 5ms/step - loss: 0.0125 - accuracy: 0.9971 - val_loss: 0.0697 - val_accuracy: 0.9808\n",
            "Epoch 7/10\n",
            "300/300 [==============================] - 2s 5ms/step - loss: 0.0100 - accuracy: 0.9977 - val_loss: 0.0717 - val_accuracy: 0.9815\n",
            "Epoch 8/10\n",
            "300/300 [==============================] - 2s 5ms/step - loss: 0.0082 - accuracy: 0.9980 - val_loss: 0.0735 - val_accuracy: 0.9810\n",
            "Epoch 9/10\n",
            "300/300 [==============================] - 2s 5ms/step - loss: 0.0075 - accuracy: 0.9982 - val_loss: 0.0722 - val_accuracy: 0.9821\n",
            "Epoch 10/10\n",
            "300/300 [==============================] - 2s 5ms/step - loss: 0.0050 - accuracy: 0.9989 - val_loss: 0.0705 - val_accuracy: 0.9831\n",
            "313/313 [==============================] - 1s 4ms/step - loss: 0.0705 - accuracy: 0.9831\n",
            "Baseline Error: 1.69%\n"
          ]
        }
      ]
    },
    {
      "cell_type": "markdown",
      "source": [
        "# Loading the saved Model\n",
        "Now, we will load the model which we have just saved and compare that with the random model. Here firstly we have created a random model and then load the previously saved model and compare the error of both."
      ],
      "metadata": {
        "id": "jqzoO4-3aOw2"
      }
    },
    {
      "cell_type": "code",
      "source": [
        "model = Sequential()\n",
        "model.add(Dense(500, input_dim=num_pixels, activation='sigmoid'))\n",
        "model.add(Dense(100, activation='sigmoid'))\n",
        "model.add(Dense(50, activation = 'sigmoid'))\n",
        "model.add(Dense(num_classes, activation='softmax'))\n",
        "# Compile model\n",
        "model.compile(loss='categorical_crossentropy', optimizer='adam', metrics=['accuracy'])\n",
        "# Final evaluation of the model\n",
        "scores = model.evaluate(X_test, y_test)\n",
        "print(\"Baseline Error: %.2f%%\" % (100-scores[1]*100))"
      ],
      "metadata": {
        "colab": {
          "base_uri": "https://localhost:8080/"
        },
        "id": "ikv8k_3OaQ6m",
        "outputId": "36a2dc5a-36e7-499b-c1d1-b461324a611f"
      },
      "execution_count": 22,
      "outputs": [
        {
          "output_type": "stream",
          "name": "stdout",
          "text": [
            "313/313 [==============================] - 1s 3ms/step - loss: 2.6765 - accuracy: 0.0982\n",
            "Baseline Error: 90.18%\n"
          ]
        }
      ]
    },
    {
      "cell_type": "code",
      "source": [
        "model.load_weights('FC.h5')\n",
        "# Final evaluation of the model\n",
        "scores = model.evaluate(X_test, y_test)\n",
        "print(\"Baseline Error: %.2f%%\" % (100-scores[1]*100))"
      ],
      "metadata": {
        "colab": {
          "base_uri": "https://localhost:8080/"
        },
        "id": "iOw04jnBaTlo",
        "outputId": "775d1d9a-8906-4811-c9df-abcb23eeaf90"
      },
      "execution_count": 23,
      "outputs": [
        {
          "output_type": "stream",
          "name": "stdout",
          "text": [
            "313/313 [==============================] - 1s 3ms/step - loss: 0.0705 - accuracy: 0.9831\n",
            "Baseline Error: 1.69%\n"
          ]
        }
      ]
    },
    {
      "cell_type": "markdown",
      "source": [
        "# Creating checkpoints of Model\n",
        "Here we make the model checkpoints (i.e, point after that there is no significant reduction in the validation error) and saved the weights of that point and used further wherever required."
      ],
      "metadata": {
        "id": "RGpRl_54aaXR"
      }
    },
    {
      "cell_type": "code",
      "source": [
        "from tensorflow.keras.callbacks import ModelCheckpoint\n",
        "filepath='FC.h5'\n",
        "checkpoint = ModelCheckpoint(filepath, monitor='val_accuracy', save_best_only=True, mode='max')\n",
        "callbacks_list = [checkpoint]\n",
        "model.fit(X_train, y_train, validation_data=(X_test, y_test), epochs=10, batch_size=200, callbacks=callbacks_list)"
      ],
      "metadata": {
        "colab": {
          "base_uri": "https://localhost:8080/"
        },
        "id": "WMrT_EGgabuI",
        "outputId": "7ec89e17-d039-498d-8956-d8b2afd6afb4"
      },
      "execution_count": 24,
      "outputs": [
        {
          "output_type": "stream",
          "name": "stdout",
          "text": [
            "Epoch 1/10\n",
            "300/300 [==============================] - 2s 6ms/step - loss: 0.0056 - accuracy: 0.9986 - val_loss: 0.0796 - val_accuracy: 0.9805\n",
            "Epoch 2/10\n",
            "300/300 [==============================] - 2s 5ms/step - loss: 0.0047 - accuracy: 0.9988 - val_loss: 0.0851 - val_accuracy: 0.9802\n",
            "Epoch 3/10\n",
            "300/300 [==============================] - 2s 5ms/step - loss: 0.0035 - accuracy: 0.9993 - val_loss: 0.0916 - val_accuracy: 0.9779\n",
            "Epoch 4/10\n",
            "300/300 [==============================] - 2s 5ms/step - loss: 0.0049 - accuracy: 0.9987 - val_loss: 0.0745 - val_accuracy: 0.9830\n",
            "Epoch 5/10\n",
            "300/300 [==============================] - 2s 5ms/step - loss: 0.0020 - accuracy: 0.9997 - val_loss: 0.0748 - val_accuracy: 0.9831\n",
            "Epoch 6/10\n",
            "300/300 [==============================] - 2s 5ms/step - loss: 0.0012 - accuracy: 0.9998 - val_loss: 0.0785 - val_accuracy: 0.9827\n",
            "Epoch 7/10\n",
            "300/300 [==============================] - 2s 5ms/step - loss: 0.0033 - accuracy: 0.9991 - val_loss: 0.0874 - val_accuracy: 0.9807\n",
            "Epoch 8/10\n",
            "300/300 [==============================] - 2s 5ms/step - loss: 0.0040 - accuracy: 0.9990 - val_loss: 0.0997 - val_accuracy: 0.9787\n",
            "Epoch 9/10\n",
            "300/300 [==============================] - 2s 5ms/step - loss: 0.0065 - accuracy: 0.9979 - val_loss: 0.0904 - val_accuracy: 0.9820\n",
            "Epoch 10/10\n",
            "300/300 [==============================] - 2s 5ms/step - loss: 0.0026 - accuracy: 0.9994 - val_loss: 0.0833 - val_accuracy: 0.9824\n"
          ]
        },
        {
          "output_type": "execute_result",
          "data": {
            "text/plain": [
              "<keras.callbacks.History at 0x7f5812f7fa50>"
            ]
          },
          "metadata": {},
          "execution_count": 24
        }
      ]
    },
    {
      "cell_type": "markdown",
      "source": [
        "# Defining Learning Rate Decay and Other Parameters of Optimizer\n",
        "We will use the SGD and Adam Optimizer for our model. "
      ],
      "metadata": {
        "id": "FNfQ_KUCaoRN"
      }
    },
    {
      "cell_type": "code",
      "source": [
        "from tensorflow.keras.optimizers import SGD, Adam\n",
        "sgd = SGD(lr = 0.001, momentum = 0.0005, decay = 0.0005)   # 0.001  to 0.000001\n",
        "adam = Adam(lr=0.001, beta_1=0.9, beta_2=0.999, epsilon=None, decay=0.0005)\n",
        "model.compile(loss='categorical_crossentropy', optimizer=adam, metrics=['accuracy'])\n",
        "# model.compile(loss='categorical_crossentropy', optimizer=sgd, metrics=['accuracy'])\n",
        "model.fit(X_train, y_train, validation_data=(X_test, y_test), epochs=10, batch_size=200)\n",
        "# Final evaluation of the model\n",
        "scores = model.evaluate(X_test, y_test)\n",
        "print(\"Baseline Error: %.2f%%\" % (100-scores[1]*100))"
      ],
      "metadata": {
        "colab": {
          "base_uri": "https://localhost:8080/"
        },
        "id": "ql0Lw3yvasTN",
        "outputId": "6eb59db1-46de-455e-b9f0-e10e00ff821a"
      },
      "execution_count": 25,
      "outputs": [
        {
          "output_type": "stream",
          "name": "stderr",
          "text": [
            "/usr/local/lib/python3.7/dist-packages/keras/optimizer_v2/gradient_descent.py:102: UserWarning: The `lr` argument is deprecated, use `learning_rate` instead.\n",
            "  super(SGD, self).__init__(name, **kwargs)\n",
            "/usr/local/lib/python3.7/dist-packages/keras/optimizer_v2/adam.py:105: UserWarning: The `lr` argument is deprecated, use `learning_rate` instead.\n",
            "  super(Adam, self).__init__(name, **kwargs)\n"
          ]
        },
        {
          "output_type": "stream",
          "name": "stdout",
          "text": [
            "Epoch 1/10\n",
            "300/300 [==============================] - 2s 6ms/step - loss: 0.0025 - accuracy: 0.9994 - val_loss: 0.0901 - val_accuracy: 0.9822\n",
            "Epoch 2/10\n",
            "300/300 [==============================] - 2s 5ms/step - loss: 0.0015 - accuracy: 0.9997 - val_loss: 0.0880 - val_accuracy: 0.9812\n",
            "Epoch 3/10\n",
            "300/300 [==============================] - 2s 5ms/step - loss: 8.4430e-04 - accuracy: 0.9998 - val_loss: 0.0848 - val_accuracy: 0.9843\n",
            "Epoch 4/10\n",
            "300/300 [==============================] - 2s 5ms/step - loss: 1.9536e-04 - accuracy: 1.0000 - val_loss: 0.0847 - val_accuracy: 0.9837\n",
            "Epoch 5/10\n",
            "300/300 [==============================] - 2s 5ms/step - loss: 1.2123e-04 - accuracy: 1.0000 - val_loss: 0.0842 - val_accuracy: 0.9835\n",
            "Epoch 6/10\n",
            "300/300 [==============================] - 2s 5ms/step - loss: 1.0362e-04 - accuracy: 1.0000 - val_loss: 0.0844 - val_accuracy: 0.9843\n",
            "Epoch 7/10\n",
            "300/300 [==============================] - 2s 5ms/step - loss: 9.4113e-05 - accuracy: 1.0000 - val_loss: 0.0845 - val_accuracy: 0.9837\n",
            "Epoch 8/10\n",
            "300/300 [==============================] - 2s 5ms/step - loss: 8.5955e-05 - accuracy: 1.0000 - val_loss: 0.0848 - val_accuracy: 0.9839\n",
            "Epoch 9/10\n",
            "300/300 [==============================] - 2s 5ms/step - loss: 7.8439e-05 - accuracy: 1.0000 - val_loss: 0.0850 - val_accuracy: 0.9838\n",
            "Epoch 10/10\n",
            "300/300 [==============================] - 2s 5ms/step - loss: 7.2948e-05 - accuracy: 1.0000 - val_loss: 0.0855 - val_accuracy: 0.9837\n",
            "313/313 [==============================] - 1s 4ms/step - loss: 0.0855 - accuracy: 0.9837\n",
            "Baseline Error: 1.63%\n"
          ]
        }
      ]
    },
    {
      "cell_type": "markdown",
      "source": [
        "# Defining Regularizers for the Model"
      ],
      "metadata": {
        "id": "L2BVGsFRa7Kd"
      }
    },
    {
      "cell_type": "code",
      "source": [
        "from tensorflow.keras import regularizers\n",
        "from tensorflow.keras.layers import Dropout\n",
        "model = Sequential() \n",
        "model.add(Dense(500, input_dim=num_pixels, activation='sigmoid', kernel_regularizer=regularizers.l2(1e-4)))\n",
        "model.add(Dropout(0.3))\n",
        "model.add(Dense(100, activation='sigmoid', kernel_regularizer=regularizers.l2(1e-4)))\n",
        "model.add(Dropout(0.25))\n",
        "model.add(Dense(50, activation = 'sigmoid', kernel_regularizer=regularizers.l2(1e-4)))\n",
        "model.add(Dropout(0.3))\n",
        "model.add(Dense(num_classes, activation='softmax', kernel_regularizer=regularizers.l2(1e-4)))\n",
        "# Compile model\n",
        "from tensorflow.keras.callbacks import ModelCheckpoint\n",
        "model.compile(loss='categorical_crossentropy', optimizer='adam', metrics=['accuracy'])\n",
        "# Training model\n",
        "model.fit(X_train, y_train, validation_data=(X_test, y_test), epochs=10, batch_size=200)\n",
        "# Final evaluation of the model\n",
        "scores = model.evaluate(X_test, y_test)\n",
        "print(\"Baseline Error: %.2f%%\" % (100-scores[1]*100))"
      ],
      "metadata": {
        "colab": {
          "base_uri": "https://localhost:8080/"
        },
        "id": "9K-csZyCa_93",
        "outputId": "14c66f68-8bf5-4e4b-b78c-d9b055337584"
      },
      "execution_count": 26,
      "outputs": [
        {
          "output_type": "stream",
          "name": "stdout",
          "text": [
            "Epoch 1/10\n",
            "300/300 [==============================] - 3s 6ms/step - loss: 1.4037 - accuracy: 0.5977 - val_loss: 0.6262 - val_accuracy: 0.8840\n",
            "Epoch 2/10\n",
            "300/300 [==============================] - 2s 6ms/step - loss: 0.6454 - accuracy: 0.8696 - val_loss: 0.4393 - val_accuracy: 0.9219\n",
            "Epoch 3/10\n",
            "300/300 [==============================] - 2s 6ms/step - loss: 0.5242 - accuracy: 0.8999 - val_loss: 0.3833 - val_accuracy: 0.9339\n",
            "Epoch 4/10\n",
            "300/300 [==============================] - 2s 6ms/step - loss: 0.4698 - accuracy: 0.9152 - val_loss: 0.3540 - val_accuracy: 0.9442\n",
            "Epoch 5/10\n",
            "300/300 [==============================] - 2s 6ms/step - loss: 0.4358 - accuracy: 0.9251 - val_loss: 0.3289 - val_accuracy: 0.9488\n",
            "Epoch 6/10\n",
            "300/300 [==============================] - 2s 6ms/step - loss: 0.4200 - accuracy: 0.9280 - val_loss: 0.3195 - val_accuracy: 0.9537\n",
            "Epoch 7/10\n",
            "300/300 [==============================] - 2s 6ms/step - loss: 0.4018 - accuracy: 0.9337 - val_loss: 0.3107 - val_accuracy: 0.9549\n",
            "Epoch 8/10\n",
            "300/300 [==============================] - 2s 6ms/step - loss: 0.3973 - accuracy: 0.9353 - val_loss: 0.3051 - val_accuracy: 0.9590\n",
            "Epoch 9/10\n",
            "300/300 [==============================] - 2s 6ms/step - loss: 0.3867 - accuracy: 0.9378 - val_loss: 0.2994 - val_accuracy: 0.9607\n",
            "Epoch 10/10\n",
            "300/300 [==============================] - 2s 6ms/step - loss: 0.3828 - accuracy: 0.9391 - val_loss: 0.3003 - val_accuracy: 0.9606\n",
            "313/313 [==============================] - 1s 4ms/step - loss: 0.3003 - accuracy: 0.9606\n",
            "Baseline Error: 3.94%\n"
          ]
        }
      ]
    },
    {
      "cell_type": "markdown",
      "source": [
        "# Defining Initialization for the Model\n",
        "Add dropout regularization and glorot weight initialization technique in the model"
      ],
      "metadata": {
        "id": "00oku1xLbdjY"
      }
    },
    {
      "cell_type": "code",
      "source": [
        "from tensorflow.keras import initializers\n",
        "from tensorflow.keras.layers import Dropout\n",
        "model = Sequential()\n",
        "model.add(Dense(500, input_dim=num_pixels, activation='sigmoid', kernel_initializer=initializers.GlorotNormal()))\n",
        "model.add(Dense(100, activation='sigmoid', kernel_initializer=initializers.GlorotNormal()))\n",
        "model.add(Dense(50, activation = 'sigmoid', kernel_initializer=initializers.GlorotNormal()))\n",
        "model.add(Dense(num_classes, activation='softmax', kernel_initializer=initializers.GlorotNormal()))\n",
        "# Compile model\n",
        "from tensorflow.keras.callbacks import ModelCheckpoint\n",
        "model.compile(loss='categorical_crossentropy', optimizer='adam', metrics=['accuracy'])\n",
        "# Training model\n",
        "model.fit(X_train, y_train, validation_data=(X_test, y_test), epochs=10, batch_size=200)\n",
        "# Final evaluation of the model\n",
        "scores = model.evaluate(X_test, y_test)\n",
        "print(\"Baseline Error: %.2f%%\" % (100-scores[1]*100))"
      ],
      "metadata": {
        "colab": {
          "base_uri": "https://localhost:8080/"
        },
        "id": "QV7M7VRybuQ3",
        "outputId": "fbe7f53b-7f41-411f-d077-638b510caecc"
      },
      "execution_count": 27,
      "outputs": [
        {
          "output_type": "stream",
          "name": "stdout",
          "text": [
            "Epoch 1/10\n",
            "300/300 [==============================] - 2s 6ms/step - loss: 1.0140 - accuracy: 0.7363 - val_loss: 0.3820 - val_accuracy: 0.9127\n",
            "Epoch 2/10\n",
            "300/300 [==============================] - 2s 5ms/step - loss: 0.2892 - accuracy: 0.9256 - val_loss: 0.2257 - val_accuracy: 0.9374\n",
            "Epoch 3/10\n",
            "300/300 [==============================] - 2s 5ms/step - loss: 0.1928 - accuracy: 0.9477 - val_loss: 0.1687 - val_accuracy: 0.9517\n",
            "Epoch 4/10\n",
            "300/300 [==============================] - 2s 5ms/step - loss: 0.1444 - accuracy: 0.9603 - val_loss: 0.1357 - val_accuracy: 0.9615\n",
            "Epoch 5/10\n",
            "300/300 [==============================] - 2s 5ms/step - loss: 0.1134 - accuracy: 0.9685 - val_loss: 0.1124 - val_accuracy: 0.9676\n",
            "Epoch 6/10\n",
            "300/300 [==============================] - 2s 5ms/step - loss: 0.0914 - accuracy: 0.9743 - val_loss: 0.0982 - val_accuracy: 0.9705\n",
            "Epoch 7/10\n",
            "300/300 [==============================] - 2s 5ms/step - loss: 0.0739 - accuracy: 0.9794 - val_loss: 0.0913 - val_accuracy: 0.9734\n",
            "Epoch 8/10\n",
            "300/300 [==============================] - 2s 5ms/step - loss: 0.0619 - accuracy: 0.9827 - val_loss: 0.0880 - val_accuracy: 0.9747\n",
            "Epoch 9/10\n",
            "300/300 [==============================] - 2s 5ms/step - loss: 0.0499 - accuracy: 0.9864 - val_loss: 0.0793 - val_accuracy: 0.9756\n",
            "Epoch 10/10\n",
            "300/300 [==============================] - 2s 5ms/step - loss: 0.0415 - accuracy: 0.9885 - val_loss: 0.0762 - val_accuracy: 0.9763\n",
            "313/313 [==============================] - 1s 4ms/step - loss: 0.0762 - accuracy: 0.9763\n",
            "Baseline Error: 2.37%\n"
          ]
        }
      ]
    }
  ]
}